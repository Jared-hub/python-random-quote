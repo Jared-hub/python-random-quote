{
  "nbformat": 4,
  "nbformat_minor": 0,
  "metadata": {
    "colab": {
      "provenance": [],
      "toc_visible": true,
      "authorship_tag": "ABX9TyPx8VSafcnAfaKlu7M0hUeE",
      "include_colab_link": true
    },
    "kernelspec": {
      "name": "python3",
      "display_name": "Python 3"
    },
    "language_info": {
      "name": "python"
    }
  },
  "cells": [
    {
      "cell_type": "markdown",
      "metadata": {
        "id": "view-in-github",
        "colab_type": "text"
      },
      "source": [
        "<a href=\"https://colab.research.google.com/github/Jared-hub/python-random-quote/blob/master/Task1.ipynb\" target=\"_parent\"><img src=\"https://colab.research.google.com/assets/colab-badge.svg\" alt=\"Open In Colab\"/></a>"
      ]
    },
    {
      "cell_type": "code",
      "execution_count": 39,
      "metadata": {
        "id": "MXMjnc084kJK"
      },
      "outputs": [],
      "source": [
        "import pandas as pd\n",
        "import matplotlib.pyplot as plt\n",
        "from matplotlib.offsetbox import OffsetImage, AnnotationBbox\n",
        "import ternary\n"
      ]
    },
    {
      "cell_type": "code",
      "source": [
        "from google.colab import files\n",
        "uploaded = files.upload()\n"
      ],
      "metadata": {
        "colab": {
          "base_uri": "https://localhost:8080/",
          "height": 73
        },
        "id": "a-qzksyMZFLy",
        "outputId": "bbbd4b60-ce97-4dca-dfe6-806b8c04db5d"
      },
      "execution_count": 2,
      "outputs": [
        {
          "output_type": "display_data",
          "data": {
            "text/plain": [
              "<IPython.core.display.HTML object>"
            ],
            "text/html": [
              "\n",
              "     <input type=\"file\" id=\"files-3545a7af-6fe8-489f-bf37-5dd830cdd49d\" name=\"files[]\" multiple disabled\n",
              "        style=\"border:none\" />\n",
              "     <output id=\"result-3545a7af-6fe8-489f-bf37-5dd830cdd49d\">\n",
              "      Upload widget is only available when the cell has been executed in the\n",
              "      current browser session. Please rerun this cell to enable.\n",
              "      </output>\n",
              "      <script>// Copyright 2017 Google LLC\n",
              "//\n",
              "// Licensed under the Apache License, Version 2.0 (the \"License\");\n",
              "// you may not use this file except in compliance with the License.\n",
              "// You may obtain a copy of the License at\n",
              "//\n",
              "//      http://www.apache.org/licenses/LICENSE-2.0\n",
              "//\n",
              "// Unless required by applicable law or agreed to in writing, software\n",
              "// distributed under the License is distributed on an \"AS IS\" BASIS,\n",
              "// WITHOUT WARRANTIES OR CONDITIONS OF ANY KIND, either express or implied.\n",
              "// See the License for the specific language governing permissions and\n",
              "// limitations under the License.\n",
              "\n",
              "/**\n",
              " * @fileoverview Helpers for google.colab Python module.\n",
              " */\n",
              "(function(scope) {\n",
              "function span(text, styleAttributes = {}) {\n",
              "  const element = document.createElement('span');\n",
              "  element.textContent = text;\n",
              "  for (const key of Object.keys(styleAttributes)) {\n",
              "    element.style[key] = styleAttributes[key];\n",
              "  }\n",
              "  return element;\n",
              "}\n",
              "\n",
              "// Max number of bytes which will be uploaded at a time.\n",
              "const MAX_PAYLOAD_SIZE = 100 * 1024;\n",
              "\n",
              "function _uploadFiles(inputId, outputId) {\n",
              "  const steps = uploadFilesStep(inputId, outputId);\n",
              "  const outputElement = document.getElementById(outputId);\n",
              "  // Cache steps on the outputElement to make it available for the next call\n",
              "  // to uploadFilesContinue from Python.\n",
              "  outputElement.steps = steps;\n",
              "\n",
              "  return _uploadFilesContinue(outputId);\n",
              "}\n",
              "\n",
              "// This is roughly an async generator (not supported in the browser yet),\n",
              "// where there are multiple asynchronous steps and the Python side is going\n",
              "// to poll for completion of each step.\n",
              "// This uses a Promise to block the python side on completion of each step,\n",
              "// then passes the result of the previous step as the input to the next step.\n",
              "function _uploadFilesContinue(outputId) {\n",
              "  const outputElement = document.getElementById(outputId);\n",
              "  const steps = outputElement.steps;\n",
              "\n",
              "  const next = steps.next(outputElement.lastPromiseValue);\n",
              "  return Promise.resolve(next.value.promise).then((value) => {\n",
              "    // Cache the last promise value to make it available to the next\n",
              "    // step of the generator.\n",
              "    outputElement.lastPromiseValue = value;\n",
              "    return next.value.response;\n",
              "  });\n",
              "}\n",
              "\n",
              "/**\n",
              " * Generator function which is called between each async step of the upload\n",
              " * process.\n",
              " * @param {string} inputId Element ID of the input file picker element.\n",
              " * @param {string} outputId Element ID of the output display.\n",
              " * @return {!Iterable<!Object>} Iterable of next steps.\n",
              " */\n",
              "function* uploadFilesStep(inputId, outputId) {\n",
              "  const inputElement = document.getElementById(inputId);\n",
              "  inputElement.disabled = false;\n",
              "\n",
              "  const outputElement = document.getElementById(outputId);\n",
              "  outputElement.innerHTML = '';\n",
              "\n",
              "  const pickedPromise = new Promise((resolve) => {\n",
              "    inputElement.addEventListener('change', (e) => {\n",
              "      resolve(e.target.files);\n",
              "    });\n",
              "  });\n",
              "\n",
              "  const cancel = document.createElement('button');\n",
              "  inputElement.parentElement.appendChild(cancel);\n",
              "  cancel.textContent = 'Cancel upload';\n",
              "  const cancelPromise = new Promise((resolve) => {\n",
              "    cancel.onclick = () => {\n",
              "      resolve(null);\n",
              "    };\n",
              "  });\n",
              "\n",
              "  // Wait for the user to pick the files.\n",
              "  const files = yield {\n",
              "    promise: Promise.race([pickedPromise, cancelPromise]),\n",
              "    response: {\n",
              "      action: 'starting',\n",
              "    }\n",
              "  };\n",
              "\n",
              "  cancel.remove();\n",
              "\n",
              "  // Disable the input element since further picks are not allowed.\n",
              "  inputElement.disabled = true;\n",
              "\n",
              "  if (!files) {\n",
              "    return {\n",
              "      response: {\n",
              "        action: 'complete',\n",
              "      }\n",
              "    };\n",
              "  }\n",
              "\n",
              "  for (const file of files) {\n",
              "    const li = document.createElement('li');\n",
              "    li.append(span(file.name, {fontWeight: 'bold'}));\n",
              "    li.append(span(\n",
              "        `(${file.type || 'n/a'}) - ${file.size} bytes, ` +\n",
              "        `last modified: ${\n",
              "            file.lastModifiedDate ? file.lastModifiedDate.toLocaleDateString() :\n",
              "                                    'n/a'} - `));\n",
              "    const percent = span('0% done');\n",
              "    li.appendChild(percent);\n",
              "\n",
              "    outputElement.appendChild(li);\n",
              "\n",
              "    const fileDataPromise = new Promise((resolve) => {\n",
              "      const reader = new FileReader();\n",
              "      reader.onload = (e) => {\n",
              "        resolve(e.target.result);\n",
              "      };\n",
              "      reader.readAsArrayBuffer(file);\n",
              "    });\n",
              "    // Wait for the data to be ready.\n",
              "    let fileData = yield {\n",
              "      promise: fileDataPromise,\n",
              "      response: {\n",
              "        action: 'continue',\n",
              "      }\n",
              "    };\n",
              "\n",
              "    // Use a chunked sending to avoid message size limits. See b/62115660.\n",
              "    let position = 0;\n",
              "    do {\n",
              "      const length = Math.min(fileData.byteLength - position, MAX_PAYLOAD_SIZE);\n",
              "      const chunk = new Uint8Array(fileData, position, length);\n",
              "      position += length;\n",
              "\n",
              "      const base64 = btoa(String.fromCharCode.apply(null, chunk));\n",
              "      yield {\n",
              "        response: {\n",
              "          action: 'append',\n",
              "          file: file.name,\n",
              "          data: base64,\n",
              "        },\n",
              "      };\n",
              "\n",
              "      let percentDone = fileData.byteLength === 0 ?\n",
              "          100 :\n",
              "          Math.round((position / fileData.byteLength) * 100);\n",
              "      percent.textContent = `${percentDone}% done`;\n",
              "\n",
              "    } while (position < fileData.byteLength);\n",
              "  }\n",
              "\n",
              "  // All done.\n",
              "  yield {\n",
              "    response: {\n",
              "      action: 'complete',\n",
              "    }\n",
              "  };\n",
              "}\n",
              "\n",
              "scope.google = scope.google || {};\n",
              "scope.google.colab = scope.google.colab || {};\n",
              "scope.google.colab._files = {\n",
              "  _uploadFiles,\n",
              "  _uploadFilesContinue,\n",
              "};\n",
              "})(self);\n",
              "</script> "
            ]
          },
          "metadata": {}
        },
        {
          "output_type": "stream",
          "name": "stdout",
          "text": [
            "Saving ITEC610_assessment3_data.csv to ITEC610_assessment3_data.csv\n"
          ]
        }
      ]
    },
    {
      "cell_type": "code",
      "source": [
        "# Load the CSV dataset\n",
        "df = pd.read_csv('ITEC610_assessment3_data.csv')"
      ],
      "metadata": {
        "id": "9Q_UxYXppMaD"
      },
      "execution_count": 20,
      "outputs": []
    },
    {
      "cell_type": "code",
      "source": [
        "# Extract the columns of interest\n",
        "weight_current = df['weight2']\n",
        "weight_last_year = df['wtyrago']\n",
        "height = df['htm3']"
      ],
      "metadata": {
        "id": "8YkgXGzUrviU"
      },
      "execution_count": 27,
      "outputs": []
    },
    {
      "cell_type": "code",
      "source": [
        "# Calculate summary statistics\n",
        "weight_current_stats = weight_current.describe()\n",
        "weight_last_year_stats = weight_last_year.describe()\n",
        "height_stats = height.describe()"
      ],
      "metadata": {
        "id": "XwnsMQfksBzb"
      },
      "execution_count": 28,
      "outputs": []
    },
    {
      "cell_type": "code",
      "source": [
        "# Create a ternary plot\n",
        "fig, tax = ternary.figure(scale=100)\n",
        "\n",
        "# Scatter plot of the data\n",
        "tax.scatter([(weight_current_stats[i], weight_last_year_stats[i], height_stats[i]) for i in range(len(weight_current_stats))], marker='o', color='gray', label='Data')\n",
        "\n",
        "# Define the marker icons\n",
        "icons = {\n",
        "    'Mean': 'mean.png',\n",
        "    'Min': 'min.png',\n",
        "    'Max': 'max.png',\n",
        "    'Median': 'median.png',\n",
        "    'Mean_Minus_Std': 'mean - std.png',\n",
        "    'Mean_Plus_Std': 'mean + std.png',\n",
        "    '25th_Percentile': '25 perc.png',\n",
        "    '75th_Percentile': '75 perc.png'\n",
        "}\n",
        "\n",
        "# Define the marker sizes\n",
        "marker_size = 100\n",
        "\n",
        "# Iterate over the statistics and add the annotation boxes\n",
        "for stat, icon_path in icons.items():\n",
        "    # Load the icon image\n",
        "    icon_data = plt.imread(icon_path)\n",
        "\n",
        "    # Get the coordinates for the current statistic\n",
        "    x = weight_current_stats.mean() if stat == 'Mean' else weight_current_stats.quantile(0.25) if stat == '25th_Percentile' else weight_current_stats.quantile(0.75) if stat == '75th_Percentile' else weight_current_stats.min() if stat == 'Min' else weight_current_stats.max() if stat == 'Max' else weight_current_stats.mean() - weight_current_stats.std() if stat == 'Mean_Minus_Std' else weight_current_stats.mean() + weight_current_stats.std() if stat == 'Mean_Plus_Std' else weight_current_stats.median()\n",
        "    y = weight_last_year_stats.mean() if stat == 'Mean' else weight_last_year_stats.quantile(0.25) if stat == '25th_Percentile' else weight_last_year_stats.quantile(0.75) if stat == '75th_Percentile' else weight_last_year_stats.min() if stat == 'Min' else weight_last_year_stats.max() if stat == 'Max' else weight_last_year_stats.mean() - weight_last_year_stats.std() if stat == 'Mean_Minus_Std' else weight_last_year_stats.mean() + weight_last_year_stats.std() if stat == 'Mean_Plus_Std' else weight_last_year_stats.median()\n",
        "    z = height_stats.mean() if stat == 'Mean' else height_stats.quantile(0.25) if stat == '25th_Percentile' else height_stats.quantile(0.75) if stat == '75th_Percentile' else height_stats.min() if stat == 'Min' else height_stats.max() if stat == 'Max' else height_stats.mean() - height_stats.std() if stat == 'Mean_Minus_Std' else height_stats.mean() + height_stats.std() if stat == 'Mean_Plus_Std' else height_stats.median()\n",
        "\n",
        "    # Create an annotation box with the icon at the specified coordinates\n",
        "    ab = AnnotationBbox(OffsetImage(icon_data, zoom=0.1), (x, y), xycoords='data', frameon=False)\n",
        "    \n",
        "    # Add the annotation box to the plot\n",
        "    tax.get_axes().add_artist(ab)\n",
        "\n",
        "# Customize the plot\n",
        "tax.set_title('Data Distribution')\n",
        "tax.legend()\n",
        "\n",
        "# Show the plot\n",
        "plt.show()\n"
      ],
      "metadata": {
        "colab": {
          "base_uri": "https://localhost:8080/",
          "height": 540
        },
        "id": "JtboPyFT5IiP",
        "outputId": "93ce5b45-5590-4e2e-be16-8fd9f1d2e87c"
      },
      "execution_count": 47,
      "outputs": [
        {
          "output_type": "stream",
          "name": "stderr",
          "text": [
            "/usr/local/lib/python3.10/dist-packages/ternary/plotting.py:148: UserWarning: No data for colormapping provided via 'c'. Parameters 'vmin', 'vmax' will be ignored\n",
            "  ax.scatter(xs, ys, vmin=vmin, vmax=vmax, **kwargs)\n"
          ]
        },
        {
          "output_type": "display_data",
          "data": {
            "text/plain": [
              "<Figure size 640x480 with 1 Axes>"
            ],
            "image/png": "[encoded data removed]"
          },
          "metadata": {}
        }
      ]
    },
    {
      "cell_type": "markdown",
      "source": [
        "Task 2"
      ],
      "metadata": {
        "id": "607BQJjzAxGO"
      }
    },
    {
      "cell_type": "code",
      "source": [
        "import pandas as pd\n",
        "import matplotlib.pyplot as plt"
      ],
      "metadata": {
        "id": "SEGGksonA4wl"
      },
      "execution_count": 48,
      "outputs": []
    },
    {
      "cell_type": "code",
      "source": [
        "# Load the CSV dataset into a DataFrame\n",
        "df = pd.read_csv('ITEC610_assessment3_data.csv')\n",
        "\n"
      ],
      "metadata": {
        "id": "4pb5ipnEBQE9"
      },
      "execution_count": 49,
      "outputs": []
    },
    {
      "cell_type": "code",
      "source": [
        "df['weight_change'] = df['weight2'] - df['wtyrago']\n"
      ],
      "metadata": {
        "id": "boB-Fym3BcEN"
      },
      "execution_count": 52,
      "outputs": []
    },
    {
      "cell_type": "code",
      "source": [
        "correlations = df[['weight_change', 'htm3', 'wtkg2', 'weight2', 'wtyrago', 'htm3', 'age']].corr()\n"
      ],
      "metadata": {
        "id": "0zkKEHEFC7-G"
      },
      "execution_count": 54,
      "outputs": []
    },
    {
      "cell_type": "code",
      "source": [
        "highest_corr_variable = correlations['weight_change'].abs().idxmax()\n"
      ],
      "metadata": {
        "id": "ycMK4hlgDoRb"
      },
      "execution_count": 55,
      "outputs": []
    },
    {
      "cell_type": "code",
      "source": [
        "plt.figure(figsize=(10, 6))\n",
        "plt.scatter(df[highest_corr_variable], df['weight_change'])\n",
        "plt.xlabel(highest_corr_variable)\n",
        "plt.ylabel('weight_change')\n",
        "plt.title(f'Scatter Plot: weight_change vs {highest_corr_variable}')\n",
        "plt.show()\n"
      ],
      "metadata": {
        "colab": {
          "base_uri": "https://localhost:8080/",
          "height": 564
        },
        "id": "5Xwb7-cCDuu0",
        "outputId": "e2af96b6-d185-4577-98c9-577da81ed443"
      },
      "execution_count": 56,
      "outputs": [
        {
          "output_type": "display_data",
          "data": {
            "text/plain": [
              "<Figure size 1000x600 with 1 Axes>"
            ],
            "image/png": "[encoded data removed]"
          },
          "metadata": {}
        }
      ]
    },
    {
      "cell_type": "markdown",
      "source": [
        "Task3"
      ],
      "metadata": {
        "id": "W8Fx3PJ2EEfZ"
      }
    },
    {
      "cell_type": "code",
      "source": [
        "import numpy as np\n",
        "import seaborn as sns\n",
        "import matplotlib.pyplot as plt\n",
        "from scipy.stats import ttest_ind\n",
        "\n",
        "# Perform t-test for weight_change between male and female groups\n",
        "male_weight_change = df.loc[df['sex'] == 1, 'weight_change'].dropna()\n",
        "female_weight_change = df.loc[df['sex'] == 2, 'weight_change'].dropna()\n",
        "\n",
        "t_statistic, p_value = ttest_ind(male_weight_change, female_weight_change, nan_policy='omit')\n",
        "\n",
        "# Print the p-value and mean differences\n",
        "print('p-value:', p_value)\n",
        "mean_difference = np.nanmean(male_weight_change) - np.nanmean(female_weight_change)\n",
        "print('Mean difference:', mean_difference)\n",
        "\n",
        "# Perform t-tests 1000 times and store p-values\n",
        "p_values = []\n",
        "for _ in range(1000):\n",
        "    df_shuffled = df.copy()\n",
        "    np.random.shuffle(df_shuffled['weight_change'].values)\n",
        "    male_sample = df_shuffled.loc[df_shuffled['sex'] == 1, 'weight_change'][:len(male_weight_change)].dropna()\n",
        "    female_sample = df_shuffled.loc[df_shuffled['sex'] == 2, 'weight_change'][:len(female_weight_change)].dropna()\n",
        "    t_statistic, p_value = ttest_ind(male_sample, female_sample, nan_policy='omit')\n",
        "    p_values.append(p_value)\n",
        "\n",
        "# Exclude NaN p-values\n",
        "p_values = np.array(p_values)\n",
        "valid_p_values = p_values[~np.isnan(p_values)]\n",
        "\n",
        "# Plot the distributions of -log10(p-value) for male and female groups\n",
        "df_subset = df.loc[:len(valid_p_values) - 1].copy()\n",
        "df_subset['sex_label'] = df_subset['sex'].map({1: 'Male', 2: 'Female'})\n",
        "sns.displot(data=df_subset, x=-np.log10(valid_p_values), col='sex_label')\n",
        "plt.xlabel('-log10(p-value)')\n",
        "plt.show()\n"
      ],
      "metadata": {
        "colab": {
          "base_uri": "https://localhost:8080/",
          "height": 595
        },
        "id": "HNhRuus5ELtN",
        "outputId": "19357a5b-a4b6-4961-ef3e-b31ceb35108a"
      },
      "execution_count": 80,
      "outputs": [
        {
          "output_type": "stream",
          "name": "stdout",
          "text": [
            "p-value: nan\n",
            "Mean difference: nan\n"
          ]
        },
        {
          "output_type": "stream",
          "name": "stderr",
          "text": [
            "<ipython-input-80-d347de816b0a>:14: RuntimeWarning: Mean of empty slice\n",
            "  mean_difference = np.nanmean(male_weight_change) - np.nanmean(female_weight_change)\n"
          ]
        },
        {
          "output_type": "display_data",
          "data": {
            "text/plain": [
              "<Figure size 500x500 with 1 Axes>"
            ],
            "image/png": "[encoded data removed]"
          },
          "metadata": {}
        }
      ]
    }
  ]
}